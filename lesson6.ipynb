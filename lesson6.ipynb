{
 "cells": [
  {
   "cell_type": "code",
   "execution_count": null,
   "metadata": {},
   "outputs": [],
   "source": [
    "#for in 明確知道執行的次數\n",
    "#while bool 不確定知道要執行的次數\n",
    "#while True如果不小心都一直是True程式就會跑不出來，就會錯誤。"
   ]
  },
  {
   "cell_type": "code",
   "execution_count": 3,
   "metadata": {},
   "outputs": [
    {
     "name": "stdout",
     "output_type": "stream",
     "text": [
      "0\n",
      "1\n",
      "2\n",
      "3\n",
      "4\n",
      "5\n",
      "6\n",
      "7\n",
      "8\n",
      "9\n",
      "10\n"
     ]
    }
   ],
   "source": [
    "i=0\n",
    "while i<=10:\n",
    "    print(i)\n",
    "    i+=1    "
   ]
  },
  {
   "cell_type": "code",
   "execution_count": 6,
   "metadata": {},
   "outputs": [
    {
     "name": "stdout",
     "output_type": "stream",
     "text": [
      "0\n",
      "1\n",
      "2\n",
      "3\n",
      "4\n",
      "5\n",
      "6\n",
      "7\n",
      "8\n",
      "9\n"
     ]
    }
   ],
   "source": [
    "i=0\n",
    "while True:\n",
    "    if i>=10:\n",
    "        break\n",
    "    print(i)\n",
    "    i+=1  "
   ]
  },
  {
   "cell_type": "code",
   "execution_count": 4,
   "metadata": {},
   "outputs": [
    {
     "name": "stdout",
     "output_type": "stream",
     "text": [
      "轉換int錯誤\n",
      "轉換int錯誤\n",
      "學生分數是282\n"
     ]
    }
   ],
   "source": [
    "#學生總分為300\n",
    "#有些學生可以加分5%\n",
    "while True:\n",
    "    try:\n",
    "        scores = int(input(\"請輸入學生分數(最高300分)\"))\n",
    "        break    \n",
    "    except ValueError:\n",
    "        print(\"轉換int錯誤\")\n",
    "    except Exception:\n",
    "        print(\"其它錯誤\")\n",
    "\n",
    "is_add = input(\"學生是曾否符合加分條件?(y,n)\")\n",
    "\n",
    "if is_add == \"y\": #單項選擇\n",
    "    scores *= 1.05\n",
    "    if scores > 300:\n",
    "        scores = 300\n",
    "\n",
    "    print(f\"學生分數是{round(scores)}\")"
   ]
  },
  {
   "cell_type": "code",
   "execution_count": 6,
   "metadata": {},
   "outputs": [
    {
     "name": "stdout",
     "output_type": "stream",
     "text": [
      "分數不可以大於300\n",
      "分數不可以小於零\n",
      "轉換int錯誤\n",
      "學生分數是300\n"
     ]
    }
   ],
   "source": [
    "#學生總分為300\n",
    "#有些學生可以加分5%\n",
    "while True:\n",
    "    try:\n",
    "        scores = int(input(\"請輸入學生分數(最高300分)\"))\n",
    "        if scores<0:\n",
    "            print(\"分數不可以小於零\")\n",
    "        else:\n",
    "            if scores>300:\n",
    "                print(\"分數不可以大於300\")\n",
    "            else:\n",
    "                break    \n",
    "    except ValueError:\n",
    "        print(\"轉換int錯誤\")\n",
    "    except Exception:\n",
    "        print(\"其它錯誤\")\n",
    "\n",
    "is_add = input(\"學生是曾否符合加分條件?(y,n)\")\n",
    "\n",
    "if is_add == \"y\": #單項選擇\n",
    "    scores *= 1.05\n",
    "    if scores > 300:\n",
    "        scores = 300\n",
    "\n",
    "    print(f\"學生分數是{round(scores)}\")"
   ]
  },
  {
   "cell_type": "code",
   "execution_count": 8,
   "metadata": {},
   "outputs": [
    {
     "name": "stdout",
     "output_type": "stream",
     "text": [
      "分數不可以大於300\n",
      "分數不可以大於300\n",
      "分數不可以小於零\n",
      "轉換int錯誤\n",
      "學生分數是300\n"
     ]
    }
   ],
   "source": [
    "#學生總分為300\n",
    "#有些學生可以加分5%\n",
    "while True:\n",
    "    try:\n",
    "        scores = int(input(\"請輸入學生分數(最高300分)\"))\n",
    "        if scores<0:\n",
    "            print(\"分數不可以小於零\")\n",
    "        elif scores>300:   #跟上方公式類似，差別在於縮寫了else+if變成elif\n",
    "            print(\"分數不可以大於300\")\n",
    "        else:\n",
    "            break    \n",
    "    except ValueError:\n",
    "        print(\"轉換int錯誤\")\n",
    "    except Exception:\n",
    "        print(\"其它錯誤\")\n",
    "\n",
    "is_add = input(\"學生是曾否符合加分條件?(y,n)\")\n",
    "\n",
    "if is_add == \"y\": #單項選擇\n",
    "    scores *= 1.05\n",
    "    if scores > 300:\n",
    "        scores = 300\n",
    "\n",
    "    print(f\"學生分數是{round(scores)}\")"
   ]
  },
  {
   "cell_type": "code",
   "execution_count": 9,
   "metadata": {},
   "outputs": [
    {
     "name": "stdout",
     "output_type": "stream",
     "text": [
      "分數不可以大於300\n",
      "分數不可以大於300\n",
      "分數不可以小於零\n",
      "轉換int錯誤\n",
      "學生分數是300\n"
     ]
    }
   ],
   "source": [
    "#第三種寫法，也是跟上方公式類似，但又更簡寫了。\n",
    "#學生總分為300\n",
    "#有些學生可以加分5%\n",
    "while True:\n",
    "    try:\n",
    "        scores = int(input(\"請輸入學生分數(最高300分)\"))\n",
    "        if scores<0:\n",
    "            raise Exception(\"分數不可以小於零\")\n",
    "        if scores>300:\n",
    "            raise Exception(\"分數不可以大於300\")\n",
    "        break\n",
    "\n",
    "    except ValueError:\n",
    "        print(\"轉換int錯誤\")\n",
    "    except Exception as e:\n",
    "        print(e)\n",
    "\n",
    "is_add = input(\"學生是曾否符合加分條件?(y,n)\")\n",
    "\n",
    "if is_add == \"y\": #單項選擇\n",
    "    scores *= 1.05\n",
    "    if scores > 300:\n",
    "        scores = 300\n",
    "\n",
    "    print(f\"學生分數是{round(scores)}\")"
   ]
  }
 ],
 "metadata": {
  "kernelspec": {
   "display_name": "Python 3",
   "language": "python",
   "name": "python3"
  },
  "language_info": {
   "codemirror_mode": {
    "name": "ipython",
    "version": 3
   },
   "file_extension": ".py",
   "mimetype": "text/x-python",
   "name": "python",
   "nbconvert_exporter": "python",
   "pygments_lexer": "ipython3",
   "version": "3.12.3"
  }
 },
 "nbformat": 4,
 "nbformat_minor": 2
}
