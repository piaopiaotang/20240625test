{
 "cells": [
  {
   "cell_type": "code",
   "execution_count": 12,
   "metadata": {},
   "outputs": [
    {
     "name": "stdout",
     "output_type": "stream",
     "text": [
      "對邊: 25.0 斜邊: 50.0 角度: 30.0\n"
     ]
    }
   ],
   "source": [
    "import math\n",
    "side=float(input(\"請輸入對邊\"))\n",
    "another_side=float(input(\"請輸入斜邊\"))\n",
    "radina=math.asin(side/another_side)\n",
    "degree=math.degrees(radian)\n",
    "print(\"對邊:\",side,\"斜邊:\",another_side,\"角度:\",round(degree,ndigits=2))\n",
    "#以上為基本作法，與第二列的差別在最後一排，從數值便字串插補。\n"
   ]
  },
  {
   "cell_type": "code",
   "execution_count": 13,
   "metadata": {},
   "outputs": [
    {
     "name": "stdout",
     "output_type": "stream",
     "text": [
      "對邊:25.0,斜邊:50.0,角度:30.0\n"
     ]
    }
   ],
   "source": [
    "import math\n",
    "\n",
    "side = float(input('請輸入對邊'))\n",
    "another_side = float(input('請輸入斜邊'))\n",
    "radian = math.asin(side / another_side)\n",
    "degree = math.degrees(radian)\n",
    "print(f\"對邊:{side},斜邊:{another_side},角度:{round(degree,ndigits=2)}\")"
   ]
  },
  {
   "cell_type": "code",
   "execution_count": 10,
   "metadata": {},
   "outputs": [
    {
     "data": {
      "text/plain": [
       "3.14"
      ]
     },
     "execution_count": 10,
     "metadata": {},
     "output_type": "execute_result"
    }
   ],
   "source": [
    "round(3.1415926)\n",
    "round(3.1415926,ndigits=2)"
   ]
  },
  {
   "cell_type": "code",
   "execution_count": 14,
   "metadata": {},
   "outputs": [
    {
     "data": {
      "text/plain": [
       "'n=5,m=10'"
      ]
     },
     "execution_count": 14,
     "metadata": {},
     "output_type": "execute_result"
    }
   ],
   "source": [
    "#單純數值\n",
    "n=5\n",
    "m=10\n",
    "\n",
    "#字串插補=000:{000},XXX:{XXX}以此類推\n",
    "f\"n={n},m={m}\""
   ]
  },
  {
   "cell_type": "code",
   "execution_count": 21,
   "metadata": {},
   "outputs": [
    {
     "name": "stdout",
     "output_type": "stream",
     "text": [
      "5.94418483337567\n",
      "1.8257418583505538\n"
     ]
    }
   ],
   "source": [
    "import statistics\n",
    "statistics.mean([0,5,9,14])\n",
    "statistics.mean([5,6,8,9])\n",
    "\n",
    "print(statistics.stdev([0,5,9,14]))\n",
    "print(statistics.stdev([5,6,8,9]))"
   ]
  },
  {
   "cell_type": "code",
   "execution_count": 26,
   "metadata": {},
   "outputs": [
    {
     "data": {
      "text/plain": [
       "10.0"
      ]
     },
     "execution_count": 26,
     "metadata": {},
     "output_type": "execute_result"
    },
    {
     "name": "stderr",
     "output_type": "stream",
     "text": [
      "Bad pipe message: %s [b'0.9,image/avif,image/webp,image/apng,*/*;q=0.8,application/signed-exchange;v=b3;q=0.7\\r\\nHost: localhost:39963\\r\\nUs', b'-Agent: Mozilla/5.0 (Windows NT 10.0; Win64; x64) AppleWebKit/537.36 (KHTML, like Gecko) Chrome/126.']\n",
      "Bad pipe message: %s [b'0.0 Safari/537.36\\r\\nAccept-Encoding: gzip, defla']\n",
      "Bad pipe message: %s [b', br, zstd\\r\\nAccept-Language: zh-TW,zh;q=0.9,en-US;q=0.8,en;q=0.7\\r\\nCache-Control: max-age=0\\r\\nReferer: https://github', b'om/\\r\\nX-Request-ID: 9653910d0f3efb9b5eb714216b', b'a25e\\r\\nX-Real-IP: 10.240.1.34\\r\\nX-Forwarded-Port: 443\\r\\nX-Forwarded-Scheme: https\\r\\nX-Original-URI: /\\r']\n",
      "Bad pipe message: %s [b'-Scheme: ']\n",
      "Bad pipe message: %s [b'tps\\r\\nsec-fetch-site: cross-site\\r\\nsec-fetch-mode: navigate\\r\\nsec-fetch-dest: document\\r\\nsec-ch-ua: \"Not/A)']\n",
      "Bad pipe message: %s [b'and\";v=\"8\", \"Chromium\";v=\"126\", \"Google Chrome\";v=\"126\"\\r\\nsec-ch-u']\n"
     ]
    }
   ],
   "source": [
    "#基礎方法:\n",
    "# m = 10\n",
    "# m = m + 20\n",
    "#下面方式為簡化版\n",
    "m=10\n",
    "m+=20 #複合指定運算子\n",
    "m/=3\n",
    "m\n",
    "\n"
   ]
  },
  {
   "cell_type": "code",
   "execution_count": null,
   "metadata": {},
   "outputs": [],
   "source": []
  }
 ],
 "metadata": {
  "kernelspec": {
   "display_name": "Python 3",
   "language": "python",
   "name": "python3"
  },
  "language_info": {
   "codemirror_mode": {
    "name": "ipython",
    "version": 3
   },
   "file_extension": ".py",
   "mimetype": "text/x-python",
   "name": "python",
   "nbconvert_exporter": "python",
   "pygments_lexer": "ipython3",
   "version": "3.12.3"
  }
 },
 "nbformat": 4,
 "nbformat_minor": 2
}
