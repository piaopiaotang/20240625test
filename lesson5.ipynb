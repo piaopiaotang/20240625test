{
 "cells": [
  {
   "cell_type": "code",
   "execution_count": 3,
   "metadata": {},
   "outputs": [
    {
     "name": "stdout",
     "output_type": "stream",
     "text": [
      "請輸入age:Number must be at maximum 100.\n",
      "請輸入age:Number must be at maximum 100.\n",
      "請輸入age:Number must be at minimum 5.\n",
      "請輸入age:Number must be at minimum 5.\n",
      "請輸入age:Blank values are not allowed.\n",
      "請輸入age:有投票權\n"
     ]
    }
   ],
   "source": [
    "import pyinputplus as pyip\n",
    "\n",
    "age=pyip.inputInt(\"請輸入age:\",min=5,max=100)\n",
    "#雙向選擇,只執行其中一個程式區塊\n",
    "if age>=18:\n",
    "    print(\"有投票權\")\n",
    "else:\n",
    "    print('沒有投票權')"
   ]
  },
  {
   "cell_type": "code",
   "execution_count": 10,
   "metadata": {},
   "outputs": [
    {
     "name": "stdout",
     "output_type": "stream",
     "text": [
      "學生分數是300\n"
     ]
    }
   ],
   "source": [
    "#學生總分為300\n",
    "#有些學生可以加分5%\n",
    "\n",
    "scores=int(input(\"請輸入學生分數(最高300分)\"))\n",
    "is_add=input(\"學生是否符合加分條件?(y,n)\")\n",
    "\n",
    "if is_add==\"y\":  #單項選擇\n",
    "    scores*=1.05\n",
    "    if scores>300:\n",
    "        scores=300\n",
    "print(f\"學生分數是{round(scores)}\")"
   ]
  },
  {
   "cell_type": "code",
   "execution_count": 20,
   "metadata": {},
   "outputs": [
    {
     "name": "stdout",
     "output_type": "stream",
     "text": [
      "轉換int錯誤\n"
     ]
    }
   ],
   "source": [
    "#配合下方練習題來應用\n",
    "#學生總分為300\n",
    "#有些學生可以加分5%\n",
    "\n",
    "try:\n",
    "    scores=int(input(\"請輸入學生分數(最高300分)\"))\n",
    "    is_add=input(\"學生是否符合加分條件?(y,n)\")\n",
    "\n",
    "    if is_add==\"y\":  #單項選擇\n",
    "        scores*=1.05\n",
    "        if scores>300:\n",
    "            scores=300\n",
    "\n",
    "    print(f\"學生分數是{round(scores)}\")\n",
    "except ValueError:\n",
    "    print(\"轉換int錯誤\")\n",
    "except Exception:\n",
    "    print(\"其他錯誤\")"
   ]
  },
  {
   "cell_type": "code",
   "execution_count": 21,
   "metadata": {},
   "outputs": [
    {
     "name": "stdout",
     "output_type": "stream",
     "text": [
      "轉換int錯誤\n"
     ]
    }
   ],
   "source": [
    "#與上方相似的另一種寫法\n",
    "#學生總分為300\n",
    "#有些學生可以加分5%\n",
    "try:\n",
    "    scores = int(input(\"請輸入學生分數(最高300分)\"))    \n",
    "except ValueError:\n",
    "    print(\"轉換int錯誤\")\n",
    "except Exception:\n",
    "    print(\"其它錯誤\")\n",
    "else:\n",
    "    is_add = input(\"學生是曾否符合加分條件?(y,n)\")\n",
    "\n",
    "    if is_add == \"y\": #單項選擇\n",
    "        scores *= 1.05\n",
    "        if scores > 300:\n",
    "            scores = 300\n",
    "\n",
    "    print(f\"學生分數是{round(scores)}\")"
   ]
  },
  {
   "cell_type": "code",
   "execution_count": 11,
   "metadata": {},
   "outputs": [
    {
     "name": "stdout",
     "output_type": "stream",
     "text": [
      "格式轉換錯誤\n"
     ]
    },
    {
     "ename": "NameError",
     "evalue": "name 'money' is not defined",
     "output_type": "error",
     "traceback": [
      "\u001b[0;31m---------------------------------------------------------------------------\u001b[0m",
      "\u001b[0;31mValueError\u001b[0m                                Traceback (most recent call last)",
      "Cell \u001b[0;32mIn[11], line 3\u001b[0m\n\u001b[1;32m      2\u001b[0m \u001b[38;5;28;01mtry\u001b[39;00m:\n\u001b[0;32m----> 3\u001b[0m     money\u001b[38;5;241m=\u001b[39m\u001b[38;5;28;43mint\u001b[39;49m\u001b[43m(\u001b[49m\u001b[38;5;28;43minput\u001b[39;49m\u001b[43m(\u001b[49m\u001b[38;5;124;43m\"\u001b[39;49m\u001b[38;5;124;43m請輸入金額\u001b[39;49m\u001b[38;5;124;43m\"\u001b[39;49m\u001b[43m)\u001b[49m\u001b[43m)\u001b[49m\n\u001b[1;32m      4\u001b[0m \u001b[38;5;28;01mexcept\u001b[39;00m \u001b[38;5;167;01mValueError\u001b[39;00m:\n",
      "\u001b[0;31mValueError\u001b[0m: invalid literal for int() with base 10: '100a'",
      "\nDuring handling of the above exception, another exception occurred:\n",
      "\u001b[0;31mNameError\u001b[0m                                 Traceback (most recent call last)",
      "Cell \u001b[0;32mIn[11], line 7\u001b[0m\n\u001b[1;32m      4\u001b[0m \u001b[38;5;28;01mexcept\u001b[39;00m \u001b[38;5;167;01mValueError\u001b[39;00m:\n\u001b[1;32m      5\u001b[0m     \u001b[38;5;28mprint\u001b[39m(\u001b[38;5;124m\"\u001b[39m\u001b[38;5;124m格式轉換錯誤\u001b[39m\u001b[38;5;124m\"\u001b[39m)\n\u001b[0;32m----> 7\u001b[0m     \u001b[38;5;28mprint\u001b[39m(\u001b[43mmoney\u001b[49m)\n",
      "\u001b[0;31mNameError\u001b[0m: name 'money' is not defined"
     ]
    }
   ],
   "source": [
    "#錯誤的示範\n",
    "try:\n",
    "    money=int(input(\"請輸入金額\"))\n",
    "except ValueError:\n",
    "    print(\"格式轉換錯誤\")\n",
    "\n",
    "    print(money)"
   ]
  },
  {
   "cell_type": "code",
   "execution_count": 17,
   "metadata": {},
   "outputs": [
    {
     "name": "stdout",
     "output_type": "stream",
     "text": [
      "格式轉換錯誤\n"
     ]
    }
   ],
   "source": [
    "try:\n",
    "    money=int(input(\"請輸入金額\"))\n",
    "    print(money)\n",
    "except ValueError:\n",
    "    print(\"格式轉換錯誤\")\n",
    "#如果執行間輸入錯誤的格式ex.100a。就會顯示:格式轉換錯誤。"
   ]
  },
  {
   "cell_type": "code",
   "execution_count": 16,
   "metadata": {},
   "outputs": [
    {
     "name": "stdout",
     "output_type": "stream",
     "text": [
      "100\n"
     ]
    }
   ],
   "source": [
    "try:\n",
    "    money=int(input(\"請輸入金額\"))\n",
    "except ValueError:\n",
    "    print(\"格式轉換錯誤\")\n",
    "else:\n",
    "    print(money)\n",
    "\n",
    "#如果執行間輸入錯誤的格式ex.100a。就會顯示:格式轉換錯誤。"
   ]
  },
  {
   "cell_type": "code",
   "execution_count": 19,
   "metadata": {},
   "outputs": [
    {
     "name": "stdout",
     "output_type": "stream",
     "text": [
      "格式轉換錯誤\n"
     ]
    }
   ],
   "source": [
    "try:\n",
    "    money=int(input(\"請輸入金額\"))\n",
    "except ValueError:\n",
    "    print(\"格式轉換錯誤\")\n",
    "except Exception:\n",
    "    print(\"不知名的錯誤\") #特殊的錯誤\n",
    "else:\n",
    "    print(money)"
   ]
  },
  {
   "cell_type": "code",
   "execution_count": null,
   "metadata": {},
   "outputs": [],
   "source": [
    "#縮排可以不用案空白鍵可以按Tab\n",
    "\n",
    "#for in 明確知道執行的次數\n",
    "#while bool 不確定知道要執行的次數\n",
    "#while True如果不小心都一直是True程式就會跑不出來，就會錯誤。\n",
    "\n",
    "\n"
   ]
  }
 ],
 "metadata": {
  "kernelspec": {
   "display_name": "Python 3",
   "language": "python",
   "name": "python3"
  },
  "language_info": {
   "codemirror_mode": {
    "name": "ipython",
    "version": 3
   },
   "file_extension": ".py",
   "mimetype": "text/x-python",
   "name": "python",
   "nbconvert_exporter": "python",
   "pygments_lexer": "ipython3",
   "version": "3.12.3"
  }
 },
 "nbformat": 4,
 "nbformat_minor": 2
}
