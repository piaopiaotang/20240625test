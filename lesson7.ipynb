{
 "cells": [
  {
   "cell_type": "code",
   "execution_count": 5,
   "metadata": {},
   "outputs": [
    {
     "name": "stdout",
     "output_type": "stream",
     "text": [
      "60~79\n"
     ]
    }
   ],
   "source": [
    "#最基本款條件\n",
    "score=78\n",
    "if score>=60:\n",
    "    if score<80:\n",
    "        print(\"60~79\")\n"
   ]
  },
  {
   "cell_type": "code",
   "execution_count": 6,
   "metadata": {},
   "outputs": [
    {
     "name": "stdout",
     "output_type": "stream",
     "text": [
      "0~59 80-100\n"
     ]
    }
   ],
   "source": [
    "#同上，此為簡化版\n",
    "#and=\"同時\"的意思\n",
    "\n",
    "score=92\n",
    "if score>=60 and score<80:\n",
    "    print(\"60~79\")\n",
    "else:\n",
    "    print(\"0~59\",\"80-100\")"
   ]
  },
  {
   "cell_type": "code",
   "execution_count": 14,
   "metadata": {},
   "outputs": [
    {
     "name": "stdout",
     "output_type": "stream",
     "text": [
      "60~79\n"
     ]
    }
   ],
   "source": [
    "#同上，此為相反版\n",
    "#or=\"或者\"的意思\n",
    "\n",
    "score=65\n",
    "if score<60 or score>=80:\n",
    "    print(\"0~59\",\"80-100\")\n",
    "else:\n",
    "    print(\"60~79\")"
   ]
  },
  {
   "cell_type": "code",
   "execution_count": 15,
   "metadata": {},
   "outputs": [
    {
     "name": "stdout",
     "output_type": "stream",
     "text": [
      "這是true的程式區段\n"
     ]
    }
   ],
   "source": [
    "#not=true跟false的乾坤大挪移，true變false--false變true\n",
    "if True:\n",
    "    print(\"這是true的程式區段\")\n",
    "else :\n",
    "    print(\"這是false的程式區段\")"
   ]
  },
  {
   "cell_type": "code",
   "execution_count": 16,
   "metadata": {},
   "outputs": [
    {
     "name": "stdout",
     "output_type": "stream",
     "text": [
      "這是false的程式區段\n"
     ]
    }
   ],
   "source": [
    "#同上，並加上not的應用\n",
    "if not False:\n",
    "    print(\"這是false的程式區段\")\n",
    "else:\n",
    "     print(\"這是true的程式區段\")"
   ]
  },
  {
   "cell_type": "code",
   "execution_count": null,
   "metadata": {},
   "outputs": [],
   "source": []
  }
 ],
 "metadata": {
  "kernelspec": {
   "display_name": "Python 3",
   "language": "python",
   "name": "python3"
  },
  "language_info": {
   "codemirror_mode": {
    "name": "ipython",
    "version": 3
   },
   "file_extension": ".py",
   "mimetype": "text/x-python",
   "name": "python",
   "nbconvert_exporter": "python",
   "pygments_lexer": "ipython3",
   "version": "3.12.3"
  }
 },
 "nbformat": 4,
 "nbformat_minor": 2
}
